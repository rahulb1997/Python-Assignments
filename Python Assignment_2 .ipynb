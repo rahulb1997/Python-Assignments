{
 "cells": [
  {
   "cell_type": "markdown",
   "id": "08c66ea5",
   "metadata": {
    "id": "08c66ea5"
   },
   "source": [
    "## Programming Assignment_2\n",
    "-------------"
   ]
  },
  {
   "cell_type": "markdown",
   "id": "4e50cf42",
   "metadata": {
    "id": "4e50cf42"
   },
   "source": [
    "### 1. Write a Python program to convert kilometers to miles?\n"
   ]
  },
  {
   "cell_type": "code",
   "execution_count": 1,
   "id": "0956bafb",
   "metadata": {},
   "outputs": [
    {
     "name": "stdout",
     "output_type": "stream",
     "text": [
      "Please enter the distance in kilometres: \n",
      "22\n",
      " \n",
      "That distance in miles is : 13.670162\n"
     ]
    }
   ],
   "source": [
    "km_input= int(input(\"Please enter the distance in kilometres: \\n\"))\n",
    "mile_output= km_input * 0.621371\n",
    "\n",
    "print(\" \")\n",
    "\n",
    "print(\"That distance in miles is :\", mile_output)"
   ]
  },
  {
   "cell_type": "markdown",
   "id": "0df4e6bf",
   "metadata": {
    "id": "0df4e6bf"
   },
   "source": [
    "### 2.Write a Python program to convert Celsius to Fahrenheit?"
   ]
  },
  {
   "cell_type": "markdown",
   "id": "Q-iUx4CQoppc",
   "metadata": {
    "id": "Q-iUx4CQoppc"
   },
   "source": []
  },
  {
   "cell_type": "code",
   "execution_count": 5,
   "id": "862d151a",
   "metadata": {},
   "outputs": [
    {
     "name": "stdout",
     "output_type": "stream",
     "text": [
      "Please enter the temperature in Celsius: \n",
      "45\n",
      " \n",
      "That temperature in Fahrenheit is : 113.0\n"
     ]
    }
   ],
   "source": [
    "cel_input= int(input(\"Please enter the temperature in Celsius: \\n\"))\n",
    "fahr_output= (cel_input*9/5) + 32\n",
    "\n",
    "print(\" \")\n",
    "\n",
    "print(\"That temperature in Fahrenheit is :\", fahr_output)"
   ]
  },
  {
   "cell_type": "markdown",
   "id": "46129b8e",
   "metadata": {
    "id": "46129b8e"
   },
   "source": [
    "### 3. Write a Python program to display calendar?\n"
   ]
  },
  {
   "cell_type": "code",
   "execution_count": 9,
   "id": "c5dd680d",
   "metadata": {},
   "outputs": [
    {
     "name": "stdout",
     "output_type": "stream",
     "text": [
      "Enter the year: \n",
      "2022\n",
      "Enter the month: \n",
      "02\n",
      "\n",
      "   February 2022\n",
      "Mo Tu We Th Fr Sa Su\n",
      "    1  2  3  4  5  6\n",
      " 7  8  9 10 11 12 13\n",
      "14 15 16 17 18 19 20\n",
      "21 22 23 24 25 26 27\n",
      "28\n",
      "\n"
     ]
    }
   ],
   "source": [
    "import calendar\n",
    "\n",
    "yy= int(input(\"Enter the year: \\n\"))\n",
    "mm= int(input(\"Enter the month: \\n\"))\n",
    "\n",
    "print(\"\")\n",
    "\n",
    "print(calendar.month(yy,mm))"
   ]
  },
  {
   "cell_type": "markdown",
   "id": "db2bf0f7",
   "metadata": {
    "id": "db2bf0f7"
   },
   "source": [
    "### 4. Write a Python program to solve quadratic equation?"
   ]
  },
  {
   "cell_type": "code",
   "execution_count": 17,
   "id": "77575164",
   "metadata": {},
   "outputs": [
    {
     "name": "stdout",
     "output_type": "stream",
     "text": [
      "The two values of x are: (-3+0j) and (-2+0j)\n"
     ]
    }
   ],
   "source": [
    "#Solving a quadratic equation: ax**2+b*x+c= 0\n",
    "\n",
    "#importing cmath module\n",
    "\n",
    "import cmath\n",
    "\n",
    "a= 1\n",
    "b= 5\n",
    "c= 6\n",
    "\n",
    "\n",
    "#finding discriminant\n",
    "d1= (-b-cmath.sqrt(b**2-4*a*c))/2\n",
    "d2= (-b+cmath.sqrt(b**2-4*a*c))/2\n",
    "\n",
    "print(\"The two values of x are: {} and {}\".format(d1,d2))"
   ]
  },
  {
   "cell_type": "markdown",
   "id": "f70f74c9",
   "metadata": {
    "id": "f70f74c9"
   },
   "source": [
    "### 5. Write a Python program to swap two variables without temp variable?"
   ]
  },
  {
   "cell_type": "code",
   "execution_count": 22,
   "id": "47ec5359",
   "metadata": {},
   "outputs": [
    {
     "name": "stdout",
     "output_type": "stream",
     "text": [
      "Before swapping:\n",
      "a: 100   b: 200\n",
      "\n",
      "After swapping: \n",
      "a: 200   b: 100\n"
     ]
    }
   ],
   "source": [
    "a= 100\n",
    "b= 200\n",
    "\n",
    "print(\"Before swapping:\")\n",
    "print(\"a: {}   b: {}\".format(a,b))\n",
    "\n",
    "a,b= b,a\n",
    "\n",
    "print(\"\")\n",
    "\n",
    "print(\"After swapping: \")\n",
    "print(\"a: {}   b: {}\".format(a,b))\n"
   ]
  },
  {
   "cell_type": "code",
   "execution_count": null,
   "id": "f7c3f5cf",
   "metadata": {},
   "outputs": [],
   "source": []
  }
 ],
 "metadata": {
  "colab": {
   "provenance": []
  },
  "kernelspec": {
   "display_name": "Python 3 (ipykernel)",
   "language": "python",
   "name": "python3"
  },
  "language_info": {
   "codemirror_mode": {
    "name": "ipython",
    "version": 3
   },
   "file_extension": ".py",
   "mimetype": "text/x-python",
   "name": "python",
   "nbconvert_exporter": "python",
   "pygments_lexer": "ipython3",
   "version": "3.9.7"
  }
 },
 "nbformat": 4,
 "nbformat_minor": 5
}
