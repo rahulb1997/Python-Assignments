{
 "cells": [
  {
   "cell_type": "markdown",
   "id": "20cb4340",
   "metadata": {
    "id": "20cb4340"
   },
   "source": [
    "## Programming Assignment_4\n",
    "----------------"
   ]
  },
  {
   "cell_type": "markdown",
   "id": "4fdb6695",
   "metadata": {
    "id": "4fdb6695"
   },
   "source": [
    "### 1. Write a Python Program to Find the Factorial of a Number?"
   ]
  },
  {
   "cell_type": "code",
   "execution_count": 19,
   "id": "hOeAnUwS8YPP",
   "metadata": {
    "id": "hOeAnUwS8YPP"
   },
   "outputs": [
    {
     "name": "stdout",
     "output_type": "stream",
     "text": [
      "Enter a number: 5\n",
      "\n",
      "The factorial of 5 is 120.\n"
     ]
    }
   ],
   "source": [
    "num= int(input(\"Enter a number: \"))\n",
    "\n",
    "output= 1\n",
    "\n",
    "print()\n",
    "\n",
    "for i in range(1,num+1):\n",
    "    output= output*i\n",
    "    \n",
    "print(\"The factorial of {} is {}.\".format(num, output))"
   ]
  },
  {
   "cell_type": "markdown",
   "id": "e6beef62",
   "metadata": {
    "id": "e6beef62"
   },
   "source": [
    "### 2. Write a Python Program to Display the multiplication Table?"
   ]
  },
  {
   "cell_type": "code",
   "execution_count": 24,
   "id": "KRlnRPqETMOx",
   "metadata": {
    "id": "KRlnRPqETMOx"
   },
   "outputs": [
    {
     "name": "stdout",
     "output_type": "stream",
     "text": [
      "Enter a number to find it's multiplication table: \n",
      "3\n",
      "\n",
      "Multiplication table for 3: \n",
      "1 times 3 is 3.\n",
      "2 times 3 is 6.\n",
      "3 times 3 is 9.\n",
      "4 times 3 is 12.\n",
      "5 times 3 is 15.\n",
      "6 times 3 is 18.\n",
      "7 times 3 is 21.\n",
      "8 times 3 is 24.\n",
      "9 times 3 is 27.\n",
      "10 times 3 is 30.\n"
     ]
    }
   ],
   "source": [
    "num= int(input(\"Enter a number to find it's multiplication table: \\n\"))\n",
    "\n",
    "print(\"\")\n",
    "print(\"Multiplication table for {}: \".format(num))\n",
    "for i in range(1,11):\n",
    "    print(\"{} times {} is {}.\".format(i, num, i*num))"
   ]
  },
  {
   "cell_type": "markdown",
   "id": "7de7eba5",
   "metadata": {
    "id": "7de7eba5"
   },
   "source": [
    "### 3. Write a Python Program to Print the Fibonacci sequence?\n"
   ]
  },
  {
   "cell_type": "code",
   "execution_count": 13,
   "id": "9e03bb7f",
   "metadata": {},
   "outputs": [
    {
     "name": "stdout",
     "output_type": "stream",
     "text": [
      "Enter the number in the Fibonacci sequence10\n",
      "The fibonacci series for upto 10: \n",
      "0\n",
      "1\n",
      "1\n",
      "2\n",
      "3\n",
      "5\n",
      "8\n",
      "13\n",
      "21\n",
      "34\n"
     ]
    }
   ],
   "source": [
    "nterms= int(input(\"Enter the number in the Fibonacci sequence\"))\n",
    "\n",
    "n1, n2= 0,1\n",
    "count= 0\n",
    "\n",
    "if nterms<1:\n",
    "    print(\"Enter a valid postive integer.\")\n",
    "elif nterms==1:\n",
    "    print(\"The fibonacci series for upto {}: \".format(nterms))\n",
    "    print(n1)\n",
    "else:\n",
    "    print(\"The fibonacci series for upto {}: \".format(nterms))\n",
    "    while count < nterms:\n",
    "        print(n1)\n",
    "        nth= n1+n2\n",
    "        n1= n2\n",
    "        n2= nth\n",
    "        count= count+1"
   ]
  },
  {
   "cell_type": "code",
   "execution_count": null,
   "id": "05ade66c",
   "metadata": {},
   "outputs": [],
   "source": [
    "#algorithm\n",
    "\n",
    "1. for i loop running from 0 to 100\n",
    "2. for k loop runing from i+3 to 100+3\n",
    "3. if k== (i+1)+(i+2):\n",
    "    list.append(i+3)\n",
    "    "
   ]
  },
  {
   "cell_type": "markdown",
   "id": "0446442e",
   "metadata": {
    "id": "0446442e"
   },
   "source": [
    "### 4. Write a Python Program to Check Armstrong Number?"
   ]
  },
  {
   "cell_type": "code",
   "execution_count": 33,
   "id": "deac5ea3",
   "metadata": {},
   "outputs": [
    {
     "name": "stdout",
     "output_type": "stream",
     "text": [
      "Enter a number to check it is Armstrong number or not: \n",
      "9\n",
      "The 9 is Armstrong number.\n"
     ]
    }
   ],
   "source": [
    "num= int(input(\"Enter a number to check it is Armstrong number or not: \\n\"))\n",
    "\n",
    "for i in range(0, num+1):\n",
    "    order= len(str(num))  #getting the length of the number \n",
    "    \n",
    "    temp= num\n",
    "    \n",
    "    sum= 0    #initializing sum\n",
    "    \n",
    "    while temp>0: \n",
    "        digit= temp%10\n",
    "        sum= sum+ digit ** order\n",
    "        temp= temp//10\n",
    "        \n",
    "    if sum== num:\n",
    "        print(\"The {} is Armstrong number.\".format(num))\n",
    "        break\n",
    "    else: \n",
    "        print(\"The {} is not Armstrong number.\".format(num))\n",
    "        break"
   ]
  },
  {
   "cell_type": "markdown",
   "id": "a6f9adfe",
   "metadata": {
    "id": "a6f9adfe"
   },
   "source": [
    "### 5. Write a Python Program to Find Armstrong Number in an Interval?"
   ]
  },
  {
   "cell_type": "code",
   "execution_count": 23,
   "id": "5408ee31",
   "metadata": {},
   "outputs": [
    {
     "name": "stdout",
     "output_type": "stream",
     "text": [
      "Here you can enter an interval to find Armstrong numbers(upto 99999): \n",
      "\n",
      "Enter the lowest limit of the interval: 0\n",
      "\n",
      "Enter the highest limit of the interval: 9999\n",
      "\n",
      "0\n",
      "1\n",
      "2\n",
      "3\n",
      "4\n",
      "5\n",
      "6\n",
      "7\n",
      "8\n",
      "9\n",
      "153\n",
      "370\n",
      "371\n",
      "407\n",
      "1634\n",
      "8208\n",
      "9474\n"
     ]
    }
   ],
   "source": [
    "print(\"Here you can enter an interval to find Armstrong numbers(upto 99999): \")\n",
    "\n",
    "print()\n",
    "    \n",
    "low_limit= int(input(\"Enter the lowest limit of the interval: \"))\n",
    "print()\n",
    "high_limit= int(input(\"Enter the highest limit of the interval: \"))\n",
    "print()\n",
    "\n",
    "#running the loop from lowest limit to highest limit\n",
    "for num in range(low_limit, high_limit+1):\n",
    "    order= len(str(num))  #getting the length of the number \n",
    "    \n",
    "    temp= num\n",
    "    \n",
    "    sum= 0    #initializing sum\n",
    "    \n",
    "    while temp>0: \n",
    "        digit= temp%10\n",
    "        sum= sum+ digit ** order\n",
    "        temp= temp//10\n",
    "        \n",
    "    if sum== num:\n",
    "        print(num)"
   ]
  },
  {
   "cell_type": "markdown",
   "id": "157cad60",
   "metadata": {
    "id": "157cad60"
   },
   "source": [
    "### 6. Write a Python Program to Find the Sum of Natural Numbers?"
   ]
  },
  {
   "cell_type": "code",
   "execution_count": 26,
   "id": "bbaedb9a",
   "metadata": {},
   "outputs": [
    {
     "data": {
      "text/plain": [
       "5"
      ]
     },
     "execution_count": 26,
     "metadata": {},
     "output_type": "execute_result"
    }
   ],
   "source": [
    "def sum_of_two(a,b):\n",
    "    return a+b\n",
    "\n",
    "sum_of_two(2,3)"
   ]
  }
 ],
 "metadata": {
  "colab": {
   "provenance": []
  },
  "kernelspec": {
   "display_name": "Python 3 (ipykernel)",
   "language": "python",
   "name": "python3"
  },
  "language_info": {
   "codemirror_mode": {
    "name": "ipython",
    "version": 3
   },
   "file_extension": ".py",
   "mimetype": "text/x-python",
   "name": "python",
   "nbconvert_exporter": "python",
   "pygments_lexer": "ipython3",
   "version": "3.9.7"
  }
 },
 "nbformat": 4,
 "nbformat_minor": 5
}
